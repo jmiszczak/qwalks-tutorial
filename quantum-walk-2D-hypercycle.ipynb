{
 "cells": [
  {
   "cell_type": "markdown",
   "metadata": {},
   "source": [
    "# Quantum walk on 2D hypercycle"
   ]
  },
  {
   "cell_type": "code",
   "execution_count": 2,
   "metadata": {},
   "outputs": [
    {
     "name": "stdout",
     "output_type": "stream",
     "text": [
      "Number of qubits: 10\n",
      "Number of steps: 16\n",
      "Number of simulations: 100\n"
     ]
    }
   ],
   "source": [
    "import qiskit as qk\n",
    "\n",
    "# target machine\n",
    "sim = qk.Aer.get_backend('qasm_simulator')\n",
    "\n",
    "# numer of qubits for each cordinate\n",
    "# size of the walk in qubits in qdim+qdim\n",
    "qdim = 5\n",
    "\n",
    "# number of steps\n",
    "steps = 2**(qdim-1)\n",
    "\n",
    "# numer of simulations\n",
    "shots = 100\n",
    "\n",
    "print('Number of qubits:', qdim+qdim)\n",
    "print('Number of steps:', steps)\n",
    "print('Number of simulations:', shots)"
   ]
  },
  {
   "cell_type": "markdown",
   "metadata": {},
   "source": [
    "## Operators used in arXiv:0706.0304"
   ]
  },
  {
   "cell_type": "code",
   "execution_count": 3,
   "metadata": {},
   "outputs": [],
   "source": [
    "def increment(qc, qr, dim):\n",
    "    for i in range(dim):\n",
    "        qc.mct(qr[0:dim - i], qr[dim - i], None, mode='noancilla')\n",
    "        \n",
    "def decrement(qc, qr, dim):\n",
    "    for i in range(dim):\n",
    "        qc.x(qr[0:dim - i])\n",
    "        qc.mct(qr[0:dim - i], qr[dim - i], None, mode='noancilla')\n",
    "        qc.x(qr[0:dim - i])"
   ]
  },
  {
   "cell_type": "markdown",
   "metadata": {},
   "source": [
    "## Allocate registers"
   ]
  },
  {
   "cell_type": "code",
   "execution_count": 4,
   "metadata": {},
   "outputs": [],
   "source": [
    "# allocate main registers using (x,y) coordinats\n",
    "# for choosing the directions\n",
    "x_qcoin = qk.QuantumRegister(1, name='c-x')\n",
    "y_qcoin = qk.QuantumRegister(1, name='c-y')\n",
    "\n",
    "# for encoding direction in one qubit\n",
    "xy_qcoin = qk.QuantumRegister(1, name='c-xy')\n",
    "\n",
    "x_qr = qk.QuantumRegister(qdim, name='q-x')\n",
    "y_qr = qk.QuantumRegister(qdim, name='q-y')\n",
    "\n",
    "x_cr = qk.ClassicalRegister(qdim, name='x')\n",
    "y_cr = qk.ClassicalRegister(qdim, name='y')\n",
    "\n",
    "qc = qk.QuantumCircuit()\n",
    "\n",
    "# add registers to the circuit\n",
    "qc.add_register(x_qcoin)\n",
    "qc.add_register(y_qcoin)\n",
    "qc.add_register(xy_qcoin)\n",
    "\n",
    "qc.add_register(x_qr)\n",
    "qc.add_register(y_qr)\n",
    "\n",
    "qc.add_register(x_cr)\n",
    "qc.add_register(y_cr)"
   ]
  },
  {
   "cell_type": "markdown",
   "metadata": {},
   "source": [
    "## Initialize the coin"
   ]
  },
  {
   "cell_type": "code",
   "execution_count": 5,
   "metadata": {},
   "outputs": [
    {
     "data": {
      "text/plain": [
       "<qiskit.circuit.instructionset.InstructionSet at 0x7fa090a08a50>"
      ]
     },
     "execution_count": 5,
     "metadata": {},
     "output_type": "execute_result"
    }
   ],
   "source": [
    "# initial state of the coins\n",
    "qc.h(x_qcoin)\n",
    "qc.s(x_qcoin)\n",
    "\n",
    "qc.h(y_qcoin)\n",
    "qc.s(y_qcoin)\n",
    "\n",
    "qc.barrier()"
   ]
  },
  {
   "cell_type": "markdown",
   "metadata": {},
   "source": [
    "## Check on which qubits we need to act"
   ]
  },
  {
   "cell_type": "code",
   "execution_count": 6,
   "metadata": {},
   "outputs": [
    {
     "data": {
      "text/plain": [
       "[Qubit(QuantumRegister(1, 'c-xy'), 0),\n",
       " Qubit(QuantumRegister(5, 'q-x'), 0),\n",
       " Qubit(QuantumRegister(5, 'q-x'), 1),\n",
       " Qubit(QuantumRegister(5, 'q-x'), 2),\n",
       " Qubit(QuantumRegister(5, 'q-x'), 3),\n",
       " Qubit(QuantumRegister(5, 'q-x'), 4)]"
      ]
     },
     "execution_count": 6,
     "metadata": {},
     "output_type": "execute_result"
    }
   ],
   "source": [
    "[qc.qubits[2]] + qc.qubits[3:3+qdim]"
   ]
  },
  {
   "cell_type": "code",
   "execution_count": 7,
   "metadata": {},
   "outputs": [
    {
     "data": {
      "text/plain": [
       "[Qubit(QuantumRegister(1, 'c-xy'), 0),\n",
       " Qubit(QuantumRegister(5, 'q-y'), 0),\n",
       " Qubit(QuantumRegister(5, 'q-y'), 1),\n",
       " Qubit(QuantumRegister(5, 'q-y'), 2),\n",
       " Qubit(QuantumRegister(5, 'q-y'), 3),\n",
       " Qubit(QuantumRegister(5, 'q-y'), 4)]"
      ]
     },
     "execution_count": 7,
     "metadata": {},
     "output_type": "execute_result"
    }
   ],
   "source": [
    "[qc.qubits[2]] + qc.qubits[3+qdim:3+qdim+qdim]"
   ]
  },
  {
   "cell_type": "markdown",
   "metadata": {},
   "source": [
    "## Main loop"
   ]
  },
  {
   "cell_type": "code",
   "execution_count": 8,
   "metadata": {},
   "outputs": [],
   "source": [
    "# quantum circuit implementing a quantum walk along a 2D hypercycle from arXiv:0706.0304\n",
    "\n",
    "# chose on which qubits to act during each step\n",
    "x_qubits = [qc.qubits[2]] + qc.qubits[3:3+qdim]\n",
    "y_qubits = [qc.qubits[2]] + qc.qubits[3+qdim:3+qdim+qdim]\n",
    "\n",
    "for _ in range(steps):\n",
    "    qc.h(x_qcoin)\n",
    "    qc.h(y_qcoin)\n",
    "    \n",
    "    qc.ccx(x_qcoin,y_qcoin, xy_qcoin)\n",
    "    increment(qc, x_qubits, qdim)\n",
    "    qc.ccx(x_qcoin,y_qcoin, xy_qcoin)\n",
    "  \n",
    "    qc.x(x_qcoin)\n",
    "    qc.ccx(x_qcoin,y_qcoin, xy_qcoin)\n",
    "    decrement(qc, x_qubits, qdim)\n",
    "    qc.ccx(x_qcoin,y_qcoin, xy_qcoin)\n",
    "    qc.x(x_qcoin)\n",
    "    \n",
    "    qc.x(y_qcoin)\n",
    "    qc.ccx(x_qcoin,y_qcoin, xy_qcoin)\n",
    "    increment(qc, y_qubits, qdim)\n",
    "    qc.ccx(x_qcoin,y_qcoin, xy_qcoin)\n",
    "    qc.x(y_qcoin)\n",
    "    \n",
    "    qc.x(y_qcoin)\n",
    "    qc.x(x_qcoin)\n",
    "    qc.ccx(x_qcoin,y_qcoin, xy_qcoin)\n",
    "    decrement(qc, y_qubits, qdim)\n",
    "    qc.ccx(x_qcoin,y_qcoin, xy_qcoin)\n",
    "    qc.x(x_qcoin)\n",
    "    qc.x(y_qcoin)\n",
    "    \n",
    "#     qc.barrier()"
   ]
  },
  {
   "cell_type": "markdown",
   "metadata": {},
   "source": [
    "## Final measurement"
   ]
  },
  {
   "cell_type": "code",
   "execution_count": 9,
   "metadata": {},
   "outputs": [],
   "source": [
    "# ignore the coin (qc.qubits[0]) register\n",
    "qc.measure(x_qr, x_cr);\n",
    "# qc.barrier()\n",
    "qc.measure(y_qr, y_cr);"
   ]
  },
  {
   "cell_type": "code",
   "execution_count": 10,
   "metadata": {},
   "outputs": [],
   "source": [
    "# makes sense only for small circuits\n",
    "# qc.draw(output='mpl')"
   ]
  },
  {
   "cell_type": "code",
   "execution_count": 11,
   "metadata": {},
   "outputs": [],
   "source": [
    "# NOTE: results of y_qr measurement \n",
    "job = qk.execute(qc, sim, shots=shots)\n",
    "counts = job.result().get_counts(qc)"
   ]
  },
  {
   "cell_type": "code",
   "execution_count": 12,
   "metadata": {},
   "outputs": [],
   "source": [
    "# counts\n",
    "\n",
    "# qk.visualization.plot_histogram(counts)"
   ]
  },
  {
   "cell_type": "markdown",
   "metadata": {},
   "source": [
    "## Convert to matrix form for some visualization"
   ]
  },
  {
   "cell_type": "code",
   "execution_count": 13,
   "metadata": {},
   "outputs": [],
   "source": [
    "data = np.zeros((2**qdim,2**qdim))\n",
    "\n",
    "for k in counts.keys():\n",
    "    [i,j] = map(lambda x:int(x,2), k.split(' '))\n",
    "    data[i,j] = counts[k]/shots"
   ]
  },
  {
   "cell_type": "code",
   "execution_count": 20,
   "metadata": {},
   "outputs": [
    {
     "data": {
      "image/png": "[encoded data removed]",
      "text/plain": [
       "<Figure size 216x216 with 1 Axes>"
      ]
     },
     "metadata": {},
     "output_type": "display_data"
    }
   ],
   "source": [
    "from IPython.core.display import display\n",
    "\n",
    "import numpy as np\n",
    "import matplotlib as mpl\n",
    "\n",
    "mpl.rc('text', usetex = True)\n",
    "mpl.rc('font', size = 10)\n",
    "\n",
    "fig = mpl.figure.Figure(figsize=(3,3))\n",
    "axs = fig.add_subplot()\n",
    "axs.matshow(data, cmap=plt.cm.bone.reversed())\n",
    "display(fig)"
   ]
  },
  {
   "cell_type": "code",
   "execution_count": 21,
   "metadata": {},
   "outputs": [],
   "source": [
    "fig.savefig(\"quantum-walk-2D-hypercycle.pdf\")"
   ]
  },
  {
   "cell_type": "code",
   "execution_count": null,
   "metadata": {},
   "outputs": [],
   "source": []
  }
 ],
 "metadata": {
  "kernelspec": {
   "display_name": "Python 3",
   "language": "python",
   "name": "python3"
  },
  "language_info": {
   "codemirror_mode": {
    "name": "ipython",
    "version": 3
   },
   "file_extension": ".py",
   "mimetype": "text/x-python",
   "name": "python",
   "nbconvert_exporter": "python",
   "pygments_lexer": "ipython3",
   "version": "3.7.6"
  }
 },
 "nbformat": 4,
 "nbformat_minor": 4
}
